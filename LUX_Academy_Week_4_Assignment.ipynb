{
  "nbformat": 4,
  "nbformat_minor": 0,
  "metadata": {
    "colab": {
      "provenance": [],
      "authorship_tag": "ABX9TyMRIpqEZMVuL7tmSuPou0H3"
    },
    "kernelspec": {
      "name": "python3",
      "display_name": "Python 3"
    },
    "language_info": {
      "name": "python"
    }
  },
  "cells": [
    {
      "cell_type": "markdown",
      "source": [
        "# **LUX ACADEMY DATA SCIENCE BOOTCAMP WEEK 4 ASSIGNMENT.**\n",
        "\n",
        "---\n",
        "\n"
      ],
      "metadata": {
        "id": "WQ3jQMTzfAwx"
      }
    },
    {
      "cell_type": "markdown",
      "source": [
        "In this week's assignment we shall tackle various coding problems to enhance our python problem solving skills"
      ],
      "metadata": {
        "id": "pJpnAZgLfNHQ"
      }
    },
    {
      "cell_type": "markdown",
      "source": [
        "## **Question 1**\n",
        "\n",
        "Write a Python program to check whether a string is a palindrome or not using a stack"
      ],
      "metadata": {
        "id": "BOCpFxHofcvm"
      }
    },
    {
      "cell_type": "markdown",
      "source": [
        "Stack is a data structure that operates on a LIFO(Last IN First Out) based principle, similarly compared to a stack plates.\n",
        "\n",
        "In this solution, we shall define the Stack and all its operations in a class so that we can instantiate the objects easily."
      ],
      "metadata": {
        "id": "nj3a39WKgvdM"
      }
    },
    {
      "cell_type": "code",
      "source": [
        "class Stack:\n",
        "  # initialize the empty list to represent a stack\n",
        "  def __init__(self):\n",
        "    self. items= []\n",
        "\n",
        "  def is_empty(self):\n",
        "    return len(self.items) == 0\n",
        "\n",
        "  #Add an item to the top of the stack(end of the list)\n",
        "  def push(self, item):\n",
        "    self.items.append(item)\n",
        "\n",
        "  #Remove the top item from the stack.\n",
        "  def pop(self):\n",
        "    if not self.is_empty():\n",
        "      return self.items.pop()\n",
        "    else:\n",
        "      return None\n",
        "  # Return the top item of the stack\n",
        "  def peek(self):\n",
        "    if not self.is_empty():\n",
        "      return self.items[-1]\n",
        "    else:\n",
        "      return None\n",
        "\n",
        "\n",
        "# Is_palindrome function.\n",
        "\n",
        "def is_palindrome(str):\n",
        "  #initialize the stack\n",
        "  stack_1 = Stack()\n",
        "\n",
        "  #Use for loop to push the characters of the string to the stack\n",
        "  for char in str:\n",
        "    stack_1.push(char)\n",
        "\n",
        "  # pop and form the reversed string\n",
        "  rev_str= ''\n",
        "  while not stack_1.is_empty():\n",
        "    rev_str += stack_1.pop()\n",
        "\n",
        "  #compare the original string with the reversed string\n",
        "  return str == rev_str\n",
        "\n",
        "\n",
        "# trial 1\n",
        "test_str= 'radar'\n",
        "if is_palindrome(test_str):\n",
        "  print(f'{test_str} is a palindrome')\n",
        "else:\n",
        "  print(f'{test_str} is not a palindrome')\n",
        "\n",
        "\n"
      ],
      "metadata": {
        "colab": {
          "base_uri": "https://localhost:8080/"
        },
        "id": "xWRuL_W_VF-A",
        "outputId": "bf25ecf3-b9be-4eab-ed27-9f57b3681e69"
      },
      "execution_count": 3,
      "outputs": [
        {
          "output_type": "stream",
          "name": "stdout",
          "text": [
            "radar is a palindrome\n"
          ]
        }
      ]
    },
    {
      "cell_type": "markdown",
      "source": [
        "## **Question 2**\n",
        "\n",
        "Explain the concept of list comprehension in Python with at least three examples."
      ],
      "metadata": {
        "id": "RlrvD-37fx2W"
      }
    },
    {
      "cell_type": "markdown",
      "source": [
        "List comprehension is a concise and compact way to create lists in Python. One is able to generate a new list by applying a condition or fileter to each item in an exsting iterable such as string or another list.This is all done by a simple single line expression syntax making them useful for performing transformations and filtering iterables in a more efficient way."
      ],
      "metadata": {
        "id": "wMWyoI6ieoYy"
      }
    },
    {
      "cell_type": "markdown",
      "source": [
        "**Syntax**\n",
        "[expression for item in iterable if condition]"
      ],
      "metadata": {
        "id": "NdFUwwLOf-wm"
      }
    },
    {
      "cell_type": "markdown",
      "source": [
        "**Examples**"
      ],
      "metadata": {
        "id": "118zcptSgd_Q"
      }
    },
    {
      "cell_type": "markdown",
      "source": [
        "1. Creating a list of squares"
      ],
      "metadata": {
        "id": "Dc46TI3PghQj"
      }
    },
    {
      "cell_type": "code",
      "source": [
        "squares = [x**2 for x in range(1, 21)]\n",
        "print(squares)\n"
      ],
      "metadata": {
        "colab": {
          "base_uri": "https://localhost:8080/"
        },
        "id": "cKMkfE1egopq",
        "outputId": "890bcbeb-8773-41c0-95bf-118567979a76"
      },
      "execution_count": 4,
      "outputs": [
        {
          "output_type": "stream",
          "name": "stdout",
          "text": [
            "[1, 4, 9, 16, 25, 36, 49, 64, 81, 100, 121, 144, 169, 196, 225, 256, 289, 324, 361, 400]\n"
          ]
        }
      ]
    },
    {
      "cell_type": "markdown",
      "source": [
        "2. Filtering even numbers"
      ],
      "metadata": {
        "id": "2UREg9Gkg-JZ"
      }
    },
    {
      "cell_type": "code",
      "source": [
        "even_numbers = [x for x in range(1,21) if x % 2 == 0]\n",
        "print(even_numbers)"
      ],
      "metadata": {
        "colab": {
          "base_uri": "https://localhost:8080/"
        },
        "id": "BfpddGFFhEhm",
        "outputId": "886db214-318d-4af9-b09b-01721680c25b"
      },
      "execution_count": 5,
      "outputs": [
        {
          "output_type": "stream",
          "name": "stdout",
          "text": [
            "[2, 4, 6, 8, 10, 12, 14, 16, 18, 20]\n"
          ]
        }
      ]
    },
    {
      "cell_type": "markdown",
      "source": [
        "3. generate cartesian products of two lists"
      ],
      "metadata": {
        "id": "jAKxEVwliEIj"
      }
    },
    {
      "cell_type": "code",
      "source": [
        "cart_list1 = [4,5,6]\n",
        "cart_list2 = [1,2,3]\n",
        "cart_product = [(x,y) for x in cart_list1 for y in cart_list2]\n",
        "print(cart_product)"
      ],
      "metadata": {
        "colab": {
          "base_uri": "https://localhost:8080/"
        },
        "id": "1eOeBhDziS6I",
        "outputId": "90d3e68a-c14d-4490-b52a-1135b411494b"
      },
      "execution_count": 6,
      "outputs": [
        {
          "output_type": "stream",
          "name": "stdout",
          "text": [
            "[(4, 1), (4, 2), (4, 3), (5, 1), (5, 2), (5, 3), (6, 1), (6, 2), (6, 3)]\n"
          ]
        }
      ]
    },
    {
      "cell_type": "markdown",
      "source": [
        "## **Question 3**\n",
        "\n",
        "Explain what a compound datatype is in Python with three examples."
      ],
      "metadata": {
        "id": "Yan7gJi-f4sI"
      }
    },
    {
      "cell_type": "markdown",
      "source": [
        "This is basically a type of data that can hold nultiple values or elements, which can be of different types. They are mostrly used to group and organize nultiple values together unlike simple data types that hold a single value. They include:\n",
        "* List - An ordered, mutable collection of elements.\n",
        "* tuple - An ordered, immutable collection of elements.\n",
        "* dictionary - An unordered collection of key-value pairs, mutable.\n",
        "\n",
        "They are very useful especially when handling complex data structures in your code."
      ],
      "metadata": {
        "id": "AVOFHUDRivMB"
      }
    },
    {
      "cell_type": "markdown",
      "source": [
        "## **Question 4**\n",
        "\n",
        "Write a function that takes a string and returns a list of bigrams."
      ],
      "metadata": {
        "id": "qo1hzT84gD8G"
      }
    },
    {
      "cell_type": "markdown",
      "source": [
        "A bigram is basically a sequence of adjacent elements from an iterable eg: string or list. This is generated by taking every two consecutive characters or words."
      ],
      "metadata": {
        "id": "Tf0SPA5UkyyB"
      }
    },
    {
      "cell_type": "markdown",
      "source": [
        "Here is an example of a python function that takes a string and returns a list of bigrams"
      ],
      "metadata": {
        "id": "Fb2BFfCu3EsN"
      }
    },
    {
      "cell_type": "code",
      "source": [
        "def get_bigram(str):\n",
        "  #Initializing empty list to store the bigrams\n",
        "  result_bigram =[]\n",
        "\n",
        "  # Loop through the string up to the second last character\n",
        "  # this done to accomodate the +2 increment that will be done when doing string string slicing\n",
        "  # An also cause we need to access the current character and the next one to form a bigram.\n",
        "  for i in range(len(str)-1):\n",
        "    # extract bigram by taking the current character and the next one\n",
        "    bigram = str[i:i+2]\n",
        "    # Append the bigram to the list\n",
        "    result_bigram.append(bigram)\n",
        "  # return the list of bigrams\n",
        "  return result_bigram\n",
        "\n",
        "# Trial 1\n",
        "test_str= 'python'\n",
        "print(get_bigram(test_str))"
      ],
      "metadata": {
        "colab": {
          "base_uri": "https://localhost:8080/"
        },
        "id": "iuZ1C_033CcE",
        "outputId": "0c87d021-48e7-4ce6-a54e-95ca16f02a41"
      },
      "execution_count": 11,
      "outputs": [
        {
          "output_type": "stream",
          "name": "stdout",
          "text": [
            "['py', 'yt', 'th', 'ho', 'on']\n"
          ]
        }
      ]
    },
    {
      "cell_type": "markdown",
      "source": [
        "## **Question 5**\n",
        "\n",
        "Given a dictionary with keys as letters and values as lists of letters, write a function closest_key to find the key with the input value closest to the beginning of the list."
      ],
      "metadata": {
        "id": "m0z3tmHLgKW6"
      }
    },
    {
      "cell_type": "markdown",
      "source": [
        "Lets break down the problem. We need to write a  function 'closest key' that takes two arguments:\n",
        "* dictionary: Where thekeys are letters and values are lists of letters\n",
        "* input_value:  A single letter we want to search for in the dictionary's lists\n",
        "\n",
        "The function returns the key whose list contains the 'input_value' closest to the beginning(smallest index).Return None if not found in any list"
      ],
      "metadata": {
        "id": "pPXA6suf5R6L"
      }
    },
    {
      "cell_type": "code",
      "source": [
        "def find_closest_key(dictionary, input_value):\n",
        "  # Initialize a variable to store the closest key and its postion in the current value list\n",
        "  closest = None\n",
        "  closest_pos = float('inf')# infinity as the default largest possible position\n",
        "\n",
        "  # Iterate through the dictionary items\n",
        "  for key, value_list in dictionary.items():\n",
        "    # Check if the input value is in the current value list\n",
        "    if input_value in value_list:\n",
        "      #find index of inout_value in the value list\n",
        "      index_pos = value_list.index(input_value)\n",
        "\n",
        "      #update closest key if this positin is closer\n",
        "      if index_pos < closest_pos:\n",
        "        closest = key\n",
        "        closest_pos = index_pos\n",
        "\n",
        "  # return the closest key found (or None if not found)\n",
        "  return closest\n",
        "\n",
        "# Example trial\n",
        "test_dict = {\n",
        "      'a': ['z', 'e', 'f'],\n",
        "    'b': ['g', 'h', 'i', 'z'],\n",
        "    'c': ['j', 'k', 'z']\n",
        "}\n",
        "\n",
        "print(find_closest_key(test_dict, 'z'))"
      ],
      "metadata": {
        "colab": {
          "base_uri": "https://localhost:8080/"
        },
        "id": "wG4bNsD-6D86",
        "outputId": "d61a250b-88e6-404f-e8fc-7d05bfcdfaaa"
      },
      "execution_count": 12,
      "outputs": [
        {
          "output_type": "stream",
          "name": "stdout",
          "text": [
            "a\n"
          ]
        }
      ]
    }
  ]
}